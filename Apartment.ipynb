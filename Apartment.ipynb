{
 "cells": [
  {
   "cell_type": "code",
   "execution_count": 3,
   "id": "5868127e",
   "metadata": {},
   "outputs": [],
   "source": [
    "#without using class\n",
    "f=tuple(f\"F{i}\" for i in range(1,11) )\n",
    "s=tuple(f\"S{i}\" for i in range(1,11))\n",
    "t=tuple(f\"T{i}\" for i in range(1,11))"
   ]
  },
  {
   "cell_type": "code",
   "execution_count": 7,
   "id": "3ba58f42",
   "metadata": {},
   "outputs": [],
   "source": [
    "house_numbers = [prefix + str(i) for prefix in [\"F\", \"S\", \"T\"] for i in range(1, 11)]\n"
   ]
  },
  {
   "cell_type": "code",
   "execution_count": 8,
   "id": "ba34992b",
   "metadata": {},
   "outputs": [
    {
     "name": "stdout",
     "output_type": "stream",
     "text": [
      "['F1', 'F2', 'F3', 'F4', 'F5', 'F6', 'F7', 'F8', 'F9', 'F10', 'S1', 'S2', 'S3', 'S4', 'S5', 'S6', 'S7', 'S8', 'S9', 'S10', 'T1', 'T2', 'T3', 'T4', 'T5', 'T6', 'T7', 'T8', 'T9', 'T10']\n"
     ]
    }
   ],
   "source": [
    "print(house_numbers)"
   ]
  },
  {
   "cell_type": "code",
   "execution_count": 9,
   "id": "daca89c4",
   "metadata": {},
   "outputs": [
    {
     "name": "stdout",
     "output_type": "stream",
     "text": [
      "['NAME1', 'NAME2', 'NAME3', 'NAME4', 'NAME5', 'NAME6', 'NAME7', 'NAME8', 'NAME9', 'NAME10', 'NAME11', 'NAME12', 'NAME13', 'NAME14', 'NAME15', 'NAME16', 'NAME17', 'NAME18', 'NAME19', 'NAME20', 'NAME21', 'NAME22', 'NAME23', 'NAME24', 'NAME25', 'NAME26', 'NAME27', 'NAME28', 'NAME29', 'NAME30']\n"
     ]
    }
   ],
   "source": [
    "owners=[f\"NAME{i}\" for i in range(1,31)]\n",
    "print(owners)"
   ]
  },
  {
   "cell_type": "code",
   "execution_count": 13,
   "id": "489ba51d",
   "metadata": {},
   "outputs": [],
   "source": [
    "def parking():\n",
    "    parking_num=set(range(1,11))\n",
    "    parking_slot={houseno:parkingno for houseno,parkingno in zip(house_numbers,parking_num)}\n",
    "    print (parking_slot)\n"
   ]
  },
  {
   "cell_type": "code",
   "execution_count": 14,
   "id": "9acb963c",
   "metadata": {},
   "outputs": [
    {
     "name": "stdout",
     "output_type": "stream",
     "text": [
      "{'F1': 'NAME1', 'F2': 'NAME2', 'F3': 'NAME3', 'F4': 'NAME4', 'F5': 'NAME5', 'F6': 'NAME6', 'F7': 'NAME7', 'F8': 'NAME8', 'F9': 'NAME9', 'F10': 'NAME10', 'S1': 'NAME11', 'S2': 'NAME12', 'S3': 'NAME13', 'S4': 'NAME14', 'S5': 'NAME15', 'S6': 'NAME16', 'S7': 'NAME17', 'S8': 'NAME18', 'S9': 'NAME19', 'S10': 'NAME20', 'T1': 'NAME21', 'T2': 'NAME22', 'T3': 'NAME23', 'T4': 'NAME24', 'T5': 'NAME25', 'T6': 'NAME26', 'T7': 'NAME27', 'T8': 'NAME28', 'T9': 'NAME29', 'T10': 'NAME30'}\n"
     ]
    }
   ],
   "source": [
    "property={house:owner for house,owner in zip(house_numbers,owners)}\n",
    "print(property)"
   ]
  },
  {
   "cell_type": "code",
   "execution_count": 20,
   "id": "8478bcd3",
   "metadata": {},
   "outputs": [
    {
     "name": "stdout",
     "output_type": "stream",
     "text": [
      "Enter house number to searchS8\n",
      "owner of this house is NAME18\n"
     ]
    }
   ],
   "source": [
    "# def search():\n",
    "hn=input('Enter house number to search')\n",
    "print('owner of this house is '+str(property[hn]))"
   ]
  },
  {
   "cell_type": "code",
   "execution_count": 21,
   "id": "be4865dc",
   "metadata": {},
   "outputs": [
    {
     "name": "stdout",
     "output_type": "stream",
     "text": [
      "Initial Property Details:\n",
      "{'F1': 'OWNER1', 'F2': 'OWNER2', 'F3': 'OWNER3', 'F4': 'OWNER4', 'F5': 'OWNER5', 'F6': 'OWNER6', 'F7': 'OWNER7', 'F8': 'OWNER8', 'F9': 'OWNER9', 'F10': 'OWNER10', 'S1': 'OWNER11', 'S2': 'OWNER12', 'S3': 'OWNER13', 'S4': 'OWNER14', 'S5': 'OWNER15', 'S6': 'OWNER16', 'S7': 'OWNER17', 'S8': 'OWNER18', 'S9': 'OWNER19', 'S10': 'OWNER20', 'T1': 'OWNER21', 'T2': 'OWNER22', 'T3': 'OWNER23', 'T4': 'OWNER24', 'T5': 'OWNER25', 'T6': 'OWNER26', 'T7': 'OWNER27', 'T8': 'OWNER28', 'T9': 'OWNER29', 'T10': 'OWNER30'}\n",
      "\n",
      "Parking Slot Details:\n",
      "{'F1': 1, 'F2': 2, 'F3': 3, 'F4': 4, 'F5': 5, 'F6': 6, 'F7': 7, 'F8': 8, 'F9': 9, 'F10': 10, 'S1': 11, 'S2': 12, 'S3': 13, 'S4': 14, 'S5': 15, 'S6': 16, 'S7': 17, 'S8': 18, 'S9': 19, 'S10': 20, 'T1': 21, 'T2': 22, 'T3': 23, 'T4': 24, 'T5': 25, 'T6': 26, 'T7': 27, 'T8': 28, 'T9': 29, 'T10': 30}\n",
      "Owner for house F1 updated to NEW_OWNER.\n",
      "\n",
      "Updated Property Details:\n",
      "{'F1': 'NEW_OWNER', 'F2': 'OWNER2', 'F3': 'OWNER3', 'F4': 'OWNER4', 'F5': 'OWNER5', 'F6': 'OWNER6', 'F7': 'OWNER7', 'F8': 'OWNER8', 'F9': 'OWNER9', 'F10': 'OWNER10', 'S1': 'OWNER11', 'S2': 'OWNER12', 'S3': 'OWNER13', 'S4': 'OWNER14', 'S5': 'OWNER15', 'S6': 'OWNER16', 'S7': 'OWNER17', 'S8': 'OWNER18', 'S9': 'OWNER19', 'S10': 'OWNER20', 'T1': 'OWNER21', 'T2': 'OWNER22', 'T3': 'OWNER23', 'T4': 'OWNER24', 'T5': 'OWNER25', 'T6': 'OWNER26', 'T7': 'OWNER27', 'T8': 'OWNER28', 'T9': 'OWNER29', 'T10': 'OWNER30'}\n",
      "House Owner for F1: NEW_OWNER, Parking Slot: 1.\n"
     ]
    }
   ],
   "source": [
    "#by using class\n",
    "class Apartment:\n",
    "    def __init__(self):\n",
    "        self.FIRST = tuple(f\"F{i}\" for i in range(1, 11))\n",
    "        self.SECOND = tuple(f\"S{i}\" for i in range(1, 11))\n",
    "        self.THIRD = tuple(f\"T{i}\" for i in range(1, 11))\n",
    "        self.GROUND = tuple(f\"P{i}\" for i in range(1, 31))\n",
    "\n",
    "        self.FIRST_OWNERS = []\n",
    "        self.SECOND_OWNERS = []\n",
    "        self.THIRD_OWNERS = []\n",
    "\n",
    "        self.House_Numbers = list(self.FIRST + self.SECOND + self.THIRD + self.GROUND)\n",
    "        self.OWNERS = []\n",
    "        self.PROPERTY = {}\n",
    "\n",
    "    def initialize_owners(self):\n",
    "        self.FIRST_OWNERS = [f\"OWNER{i}\" for i in range(1, 11)]\n",
    "        self.SECOND_OWNERS = [f\"OWNER{i}\" for i in range(11, 21)]\n",
    "        self.THIRD_OWNERS = [f\"OWNER{i}\" for i in range(21, 31)]\n",
    "\n",
    "        self.OWNERS = self.FIRST_OWNERS + self.SECOND_OWNERS + self.THIRD_OWNERS\n",
    "\n",
    "        self.PROPERTY = dict(zip(self.House_Numbers, self.OWNERS))\n",
    "\n",
    "    def parking(self):\n",
    "        PARKING_SLOT = {house: slot for house, slot in zip(self.House_Numbers, range(1, 31))}\n",
    "        return PARKING_SLOT\n",
    "\n",
    "    def edit_owner(self, house_number, new_owner):\n",
    "        if house_number in self.PROPERTY:\n",
    "            self.PROPERTY[house_number] = new_owner\n",
    "            print(f\"Owner for house {house_number} updated to {new_owner}.\")\n",
    "        else:\n",
    "            print(f\"House {house_number} not found.\")\n",
    "\n",
    "    def search_owner(self, house_number):\n",
    "        if house_number in self.PROPERTY:\n",
    "            owner = self.PROPERTY[house_number]\n",
    "            parking_slot = self.parking()[house_number]\n",
    "            print(f\"House Owner for {house_number}: {owner}, Parking Slot: {parking_slot}.\")\n",
    "        else:\n",
    "            print(f\"House {house_number} not found.\")\n",
    "\n",
    "\n",
    "# Example usage:\n",
    "apartment = Apartment()\n",
    "apartment.initialize_owners()\n",
    "\n",
    "# Print initial property details\n",
    "print(\"Initial Property Details:\")\n",
    "print(apartment.PROPERTY)\n",
    "\n",
    "# Print parking slot details\n",
    "print(\"\\nParking Slot Details:\")\n",
    "print(apartment.parking())\n",
    "\n",
    "# Edit owner details\n",
    "apartment.edit_owner(\"F1\", \"NEW_OWNER\")\n",
    "print(\"\\nUpdated Property Details:\")\n",
    "print(apartment.PROPERTY)\n",
    "\n",
    "# Search for house owner by house number\n",
    "apartment.search_owner(\"F1\")\n"
   ]
  },
  {
   "cell_type": "code",
   "execution_count": null,
   "id": "f02e80da",
   "metadata": {},
   "outputs": [],
   "source": []
  }
 ],
 "metadata": {
  "kernelspec": {
   "display_name": "Python 3 (ipykernel)",
   "language": "python",
   "name": "python3"
  },
  "language_info": {
   "codemirror_mode": {
    "name": "ipython",
    "version": 3
   },
   "file_extension": ".py",
   "mimetype": "text/x-python",
   "name": "python",
   "nbconvert_exporter": "python",
   "pygments_lexer": "ipython3",
   "version": "3.11.4"
  }
 },
 "nbformat": 4,
 "nbformat_minor": 5
}
