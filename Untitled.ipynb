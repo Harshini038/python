{
 "cells": [
  {
   "cell_type": "code",
   "execution_count": 2,
   "id": "8ff4e341",
   "metadata": {},
   "outputs": [
    {
     "data": {
      "text/plain": [
       "[0, 2, 4, 6, 8]"
      ]
     },
     "execution_count": 2,
     "metadata": {},
     "output_type": "execute_result"
    }
   ],
   "source": [
    "a1=[x for x in range(0,10) if(x%2==0)]\n",
    "a1"
   ]
  },
  {
   "cell_type": "code",
   "execution_count": 4,
   "id": "e9e9345d",
   "metadata": {},
   "outputs": [
    {
     "data": {
      "text/plain": [
       "'harshini mani'"
      ]
     },
     "execution_count": 4,
     "metadata": {},
     "output_type": "execute_result"
    }
   ],
   "source": [
    "s='harshini mani'\n",
    "x=s.strip()\n",
    "x"
   ]
  },
  {
   "cell_type": "code",
   "execution_count": 8,
   "id": "a6e9fc63",
   "metadata": {},
   "outputs": [
    {
     "name": "stdout",
     "output_type": "stream",
     "text": [
      "L1 =  ['A', 'B', 'C', 'D', 'E', 'F', 'G', 'H']\n",
      "D1 =  {'A': 65, 'B': 66, 'C': 67, 'D': 68, 'E': 69, 'F': 70, 'G': 71, 'H': 72}\n"
     ]
    }
   ],
   "source": [
    "L1 = ['A', 'B', 'C', 'D', 'E', 'F', 'G', 'H']\n",
    "D1 = {x:ord(x) for x in L1}\n",
    "print('L1 = ', L1)\n",
    "print('D1 = ', D1)"
   ]
  },
  {
   "cell_type": "code",
   "execution_count": 9,
   "id": "bfdaa43b",
   "metadata": {},
   "outputs": [
    {
     "name": "stdout",
     "output_type": "stream",
     "text": [
      "6\n"
     ]
    }
   ],
   "source": [
    "def add_num(*num):\n",
    "    sum=0\n",
    "    for x in num:\n",
    "        sum += x\n",
    "    return sum\n",
    "\n",
    "print(add_num(1,2,3))"
   ]
  },
  {
   "cell_type": "code",
   "execution_count": 13,
   "id": "9b82429e",
   "metadata": {},
   "outputs": [
    {
     "name": "stdout",
     "output_type": "stream",
     "text": [
      "Partial sum is  9\n",
      "Partial sum is  12\n",
      "Partial sum is  14\n",
      "Partial sum is  15\n",
      "total sum of=  15\n"
     ]
    }
   ],
   "source": [
    "def add_rec(*num):\n",
    "    if len(num)==1:\n",
    "        return num[0]\n",
    "    else:\n",
    "        sum=num[0]+add_rec(*num[1:])\n",
    "        print('Partial sum is ',sum)\n",
    "        return sum\n",
    "\n",
    "print('total sum of= ',add_rec(1,2,3,4,5))"
   ]
  },
  {
   "cell_type": "code",
   "execution_count": 14,
   "id": "0af80272",
   "metadata": {},
   "outputs": [
    {
     "name": "stdout",
     "output_type": "stream",
     "text": [
      "{'achu': 19, 'harsh': 20}\n"
     ]
    }
   ],
   "source": [
    "def f(**name):\n",
    "    print(name)\n",
    "f(achu=19,harsh=20)"
   ]
  },
  {
   "cell_type": "code",
   "execution_count": 15,
   "id": "4c31d7aa",
   "metadata": {},
   "outputs": [
    {
     "ename": "TypeError",
     "evalue": "'tuple' object does not support item assignment",
     "output_type": "error",
     "traceback": [
      "\u001b[1;31m---------------------------------------------------------------------------\u001b[0m",
      "\u001b[1;31mTypeError\u001b[0m                                 Traceback (most recent call last)",
      "Cell \u001b[1;32mIn[15], line 2\u001b[0m\n\u001b[0;32m      1\u001b[0m t\u001b[38;5;241m=\u001b[39m(\u001b[38;5;241m1\u001b[39m,\u001b[38;5;241m2\u001b[39m)\n\u001b[1;32m----> 2\u001b[0m t[\u001b[38;5;241m1\u001b[39m]\u001b[38;5;241m=\u001b[39m\u001b[38;5;241m3\u001b[39m\n\u001b[0;32m      3\u001b[0m t\n",
      "\u001b[1;31mTypeError\u001b[0m: 'tuple' object does not support item assignment"
     ]
    }
   ],
   "source": [
    "t=(1,2)\n",
    "t[1]=3\n",
    "t"
   ]
  },
  {
   "cell_type": "code",
   "execution_count": 18,
   "id": "5e1ca8bc",
   "metadata": {},
   "outputs": [
    {
     "name": "stdout",
     "output_type": "stream",
     "text": [
      "volune of spherical shell 410.2933333333334\n"
     ]
    }
   ],
   "source": [
    "def vol(rad):\n",
    "    volume=(4/3)*3.14*rad*rad*rad\n",
    "    return volume\n",
    "\n",
    "inner=vol(3)\n",
    "outer=vol(5)\n",
    "\n",
    "shell=outer -inner\n",
    "print('volune of spherical shell '+str(shell))"
   ]
  },
  {
   "cell_type": "code",
   "execution_count": 30,
   "id": "99949797",
   "metadata": {},
   "outputs": [
    {
     "data": {
      "text/plain": [
       "1"
      ]
     },
     "execution_count": 30,
     "metadata": {},
     "output_type": "execute_result"
    }
   ],
   "source": [
    "n=(lambda x:x if x<10 else 1)\n",
    "n(11)\n",
    "\n"
   ]
  },
  {
   "cell_type": "code",
   "execution_count": 1,
   "id": "4d10536b",
   "metadata": {},
   "outputs": [
    {
     "data": {
      "text/plain": [
       "_io.TextIOWrapper"
      ]
     },
     "execution_count": 1,
     "metadata": {},
     "output_type": "execute_result"
    }
   ],
   "source": [
    "import csv\n",
    "file=open('employees.csv')\n",
    "type(file)"
   ]
  },
  {
   "cell_type": "code",
   "execution_count": 5,
   "id": "a9910148",
   "metadata": {},
   "outputs": [],
   "source": [
    "try:\n",
    "    f=open(\"test.txt\",\"w\")\n",
    "    type(f)\n",
    "    f.write(\"file opened succesfully\")\n",
    "except:\n",
    "    print(\"oops smtg went wrong\")\n",
    "finally:\n",
    "    f.close()"
   ]
  },
  {
   "cell_type": "code",
   "execution_count": 21,
   "id": "fdea8002",
   "metadata": {},
   "outputs": [
    {
     "name": "stdout",
     "output_type": "stream",
     "text": [
      "enter flower colourpink\n"
     ]
    },
    {
     "ename": "TypeError",
     "evalue": "list indices must be integers or slices, not str",
     "output_type": "error",
     "traceback": [
      "\u001b[1;31m---------------------------------------------------------------------------\u001b[0m",
      "\u001b[1;31mTypeError\u001b[0m                                 Traceback (most recent call last)",
      "Cell \u001b[1;32mIn[21], line 21\u001b[0m\n\u001b[0;32m     16\u001b[0m                     \u001b[38;5;28mprint\u001b[39m(\u001b[38;5;124mf\u001b[39m\u001b[38;5;124m\"\u001b[39m\u001b[38;5;124mFlower with color \u001b[39m\u001b[38;5;132;01m{\u001b[39;00mcolor\u001b[38;5;132;01m}\u001b[39;00m\u001b[38;5;124m: \u001b[39m\u001b[38;5;132;01m{\u001b[39;00mrow[\u001b[38;5;124m'\u001b[39m\u001b[38;5;124mFlowerName\u001b[39m\u001b[38;5;124m'\u001b[39m]\u001b[38;5;132;01m}\u001b[39;00m\u001b[38;5;124m\"\u001b[39m)\n\u001b[0;32m     20\u001b[0m c\u001b[38;5;241m=\u001b[39m\u001b[38;5;28minput\u001b[39m(\u001b[38;5;124m'\u001b[39m\u001b[38;5;124menter flower colour\u001b[39m\u001b[38;5;124m'\u001b[39m)\n\u001b[1;32m---> 21\u001b[0m search(c)\n",
      "Cell \u001b[1;32mIn[21], line 15\u001b[0m, in \u001b[0;36msearch\u001b[1;34m(colour)\u001b[0m\n\u001b[0;32m     13\u001b[0m read\u001b[38;5;241m=\u001b[39mcsv\u001b[38;5;241m.\u001b[39mreader(file)\n\u001b[0;32m     14\u001b[0m \u001b[38;5;28;01mfor\u001b[39;00m row \u001b[38;5;129;01min\u001b[39;00m read:\n\u001b[1;32m---> 15\u001b[0m     \u001b[38;5;28;01mif\u001b[39;00m row[\u001b[38;5;124m'\u001b[39m\u001b[38;5;124mcolour\u001b[39m\u001b[38;5;124m'\u001b[39m]\u001b[38;5;241m==\u001b[39mcolour:\n\u001b[0;32m     16\u001b[0m         \u001b[38;5;28mprint\u001b[39m(\u001b[38;5;124mf\u001b[39m\u001b[38;5;124m\"\u001b[39m\u001b[38;5;124mFlower with color \u001b[39m\u001b[38;5;132;01m{\u001b[39;00mcolor\u001b[38;5;132;01m}\u001b[39;00m\u001b[38;5;124m: \u001b[39m\u001b[38;5;132;01m{\u001b[39;00mrow[\u001b[38;5;124m'\u001b[39m\u001b[38;5;124mFlowerName\u001b[39m\u001b[38;5;124m'\u001b[39m]\u001b[38;5;132;01m}\u001b[39;00m\u001b[38;5;124m\"\u001b[39m)\n",
      "\u001b[1;31mTypeError\u001b[0m: list indices must be integers or slices, not str"
     ]
    }
   ],
   "source": [
    "import csv\n",
    "f='flowers.csv'\n",
    "headers=['Name','colour','size']\n",
    "with open(f,mode='w',newline='') as file:\n",
    "    writer=csv.writer(file)\n",
    "    writer.writerow(headers)\n",
    "    data=['Rose','pink','medium']\n",
    "    writer.writerows(data)\n",
    "    \n",
    "\n",
    "    def search(colour):\n",
    "        with open('flowers.csv','r') as file:\n",
    "            read=csv.reader(file)\n",
    "            for row in read:\n",
    "                if row['colour']==colour:\n",
    "                    print(f\"Flower with color {color}: {row['FlowerName']}\")\n",
    "\n",
    "                    \n",
    "\n",
    "c=input('enter flower colour')\n",
    "search(c)"
   ]
  },
  {
   "cell_type": "code",
   "execution_count": 22,
   "id": "5b6eadad",
   "metadata": {},
   "outputs": [
    {
     "name": "stdout",
     "output_type": "stream",
     "text": [
      "####\n",
      "###\n",
      "##\n",
      "#\n"
     ]
    }
   ],
   "source": [
    "def printpat(n):\n",
    "    if n>0:\n",
    "        print('#'*n)\n",
    "        printpat(n-1)\n",
    "        \n",
    "printpat(4)"
   ]
  },
  {
   "cell_type": "code",
   "execution_count": 24,
   "id": "081d36c4",
   "metadata": {},
   "outputs": [
    {
     "name": "stdout",
     "output_type": "stream",
     "text": [
      "Enter your birthdate (YYYY/MM/DD): (2003/01/17)\n",
      "Invalid date format. Please enter the birthdate in the format (YYYY/MM/DD).\n"
     ]
    }
   ],
   "source": [
    "from datetime import datetime\n",
    "\n",
    "# Function to calculate age from birthdate\n",
    "def calculate_age(birthdate):\n",
    "    today = datetime.today()\n",
    "    birthdate = datetime.strptime(birthdate, '%Y/%m/%d')\n",
    "    age = today.year - birthdate.year - ((today.month, today.day) < (birthdate.month, birthdate.day))\n",
    "    return age\n",
    "\n",
    "# Get the birthdate as input in the format (YYYY/MM/DD)\n",
    "birthdate_input = input(\"Enter your birthdate (YYYY/MM/DD): \")\n",
    "\n",
    "try:\n",
    "    age = calculate_age(birthdate_input)\n",
    "    print(f'Your age is {age} years.')\n",
    "except ValueError:\n",
    "    print(\"Invalid date format. Please enter the birthdate in the format (YYYY/MM/DD).\")\n"
   ]
  },
  {
   "cell_type": "code",
   "execution_count": 25,
   "id": "0f17358e",
   "metadata": {},
   "outputs": [
    {
     "name": "stdout",
     "output_type": "stream",
     "text": [
      "Enter a string: harshini\n",
      "Number of consonants in the string: 5\n"
     ]
    }
   ],
   "source": [
    "def count_consonants(text):\n",
    "    # Base case: if the input string is empty, there are no consonants.\n",
    "    if len(text) == 0:\n",
    "        return 0\n",
    "    else:\n",
    "        # Convert the first character to lowercase for case-insensitive counting.\n",
    "        char = text[0].lower()\n",
    "        \n",
    "        # Check if the character is a letter and not a vowel.\n",
    "        if char.isalpha() and char not in 'aeiou':\n",
    "            # If it's a consonant, increment the count and recurse on the rest of the string.\n",
    "            return 1 + count_consonants(text[1:])\n",
    "        else:\n",
    "            # If it's not a consonant, simply recurse on the rest of the string.\n",
    "            return count_consonants(text[1:])\n",
    "\n",
    "# Get the input string from the user\n",
    "text = input(\"Enter a string: \")\n",
    "\n",
    "consonant_count = count_consonants(text)\n",
    "print(f'Number of consonants in the string: {consonant_count}')\n"
   ]
  },
  {
   "cell_type": "code",
   "execution_count": 26,
   "id": "4a9cb456",
   "metadata": {},
   "outputs": [
    {
     "name": "stdout",
     "output_type": "stream",
     "text": [
      "{'a': 1, 'b': 6, 'c': 8, 'd': 6}\n"
     ]
    }
   ],
   "source": [
    "def combine_dictionaries(dict1, dict2):\n",
    "    combined_dict = dict1.copy()  # Make a copy of the first dictionary to preserve its original contents\n",
    "    \n",
    "    for key, value in dict2.items():\n",
    "        if key in combined_dict:\n",
    "            combined_dict[key] += value\n",
    "        else:\n",
    "            combined_dict[key] = value\n",
    "    \n",
    "    return combined_dict\n",
    "\n",
    "# Example dictionaries\n",
    "dict1 = {'a': 1, 'b': 2, 'c': 3}\n",
    "dict2 = {'b': 4, 'c': 5, 'd': 6}\n",
    "\n",
    "combined = combine_dictionaries(dict1, dict2)\n",
    "print(combined)\n"
   ]
  },
  {
   "cell_type": "code",
   "execution_count": 28,
   "id": "3214f87f",
   "metadata": {},
   "outputs": [
    {
     "name": "stdout",
     "output_type": "stream",
     "text": [
      "{2: 4, 4: 16, 6: 36, 8: 64, 10: 100}\n"
     ]
    }
   ],
   "source": [
    "def generate_squared_dict(n):\n",
    "    squared_dict = {}\n",
    "    for i in range(1, n + 1):\n",
    "        if i % 2 == 0:\n",
    "            squared_dict[i] = i * i\n",
    "    return squared_dict\n",
    "\n",
    "n = 10  # You can change n to the desired value\n",
    "result = generate_squared_dict(n)\n",
    "print(result)\n"
   ]
  },
  {
   "cell_type": "code",
   "execution_count": 29,
   "id": "32715446",
   "metadata": {},
   "outputs": [
    {
     "name": "stdout",
     "output_type": "stream",
     "text": [
      "abcde\n"
     ]
    }
   ],
   "source": [
    "# List of characters\n",
    "char_list = ['a', 'b', 'c', 'd', 'e']\n",
    "\n",
    "# Convert the list to a string\n",
    "result_string = ''.join(char_list)\n",
    "\n",
    "# Print the resulting string\n",
    "print(result_string)\n"
   ]
  },
  {
   "cell_type": "code",
   "execution_count": 30,
   "id": "6abc0a89",
   "metadata": {},
   "outputs": [
    {
     "ename": "FileNotFoundError",
     "evalue": "[Errno 2] No such file or directory: 'grades.csv'",
     "output_type": "error",
     "traceback": [
      "\u001b[1;31m---------------------------------------------------------------------------\u001b[0m",
      "\u001b[1;31mFileNotFoundError\u001b[0m                         Traceback (most recent call last)",
      "Cell \u001b[1;32mIn[30], line 8\u001b[0m\n\u001b[0;32m      5\u001b[0m subject2 \u001b[38;5;241m=\u001b[39m {}\n\u001b[0;32m      6\u001b[0m subject3 \u001b[38;5;241m=\u001b[39m {}\n\u001b[1;32m----> 8\u001b[0m \u001b[38;5;28;01mwith\u001b[39;00m \u001b[38;5;28mopen\u001b[39m(\u001b[38;5;124m'\u001b[39m\u001b[38;5;124mgrades.csv\u001b[39m\u001b[38;5;124m'\u001b[39m, \u001b[38;5;124m'\u001b[39m\u001b[38;5;124mr\u001b[39m\u001b[38;5;124m'\u001b[39m) \u001b[38;5;28;01mas\u001b[39;00m csvfile:\n\u001b[0;32m      9\u001b[0m     csv_reader \u001b[38;5;241m=\u001b[39m csv\u001b[38;5;241m.\u001b[39mDictReader(csvfile)\n\u001b[0;32m     10\u001b[0m     \u001b[38;5;28;01mfor\u001b[39;00m row \u001b[38;5;129;01min\u001b[39;00m csv_reader:\n",
      "File \u001b[1;32m~\\anaconda3\\Lib\\site-packages\\IPython\\core\\interactiveshell.py:284\u001b[0m, in \u001b[0;36m_modified_open\u001b[1;34m(file, *args, **kwargs)\u001b[0m\n\u001b[0;32m    277\u001b[0m \u001b[38;5;28;01mif\u001b[39;00m file \u001b[38;5;129;01min\u001b[39;00m {\u001b[38;5;241m0\u001b[39m, \u001b[38;5;241m1\u001b[39m, \u001b[38;5;241m2\u001b[39m}:\n\u001b[0;32m    278\u001b[0m     \u001b[38;5;28;01mraise\u001b[39;00m \u001b[38;5;167;01mValueError\u001b[39;00m(\n\u001b[0;32m    279\u001b[0m         \u001b[38;5;124mf\u001b[39m\u001b[38;5;124m\"\u001b[39m\u001b[38;5;124mIPython won\u001b[39m\u001b[38;5;124m'\u001b[39m\u001b[38;5;124mt let you open fd=\u001b[39m\u001b[38;5;132;01m{\u001b[39;00mfile\u001b[38;5;132;01m}\u001b[39;00m\u001b[38;5;124m by default \u001b[39m\u001b[38;5;124m\"\u001b[39m\n\u001b[0;32m    280\u001b[0m         \u001b[38;5;124m\"\u001b[39m\u001b[38;5;124mas it is likely to crash IPython. If you know what you are doing, \u001b[39m\u001b[38;5;124m\"\u001b[39m\n\u001b[0;32m    281\u001b[0m         \u001b[38;5;124m\"\u001b[39m\u001b[38;5;124myou can use builtins\u001b[39m\u001b[38;5;124m'\u001b[39m\u001b[38;5;124m open.\u001b[39m\u001b[38;5;124m\"\u001b[39m\n\u001b[0;32m    282\u001b[0m     )\n\u001b[1;32m--> 284\u001b[0m \u001b[38;5;28;01mreturn\u001b[39;00m io_open(file, \u001b[38;5;241m*\u001b[39margs, \u001b[38;5;241m*\u001b[39m\u001b[38;5;241m*\u001b[39mkwargs)\n",
      "\u001b[1;31mFileNotFoundError\u001b[0m: [Errno 2] No such file or directory: 'grades.csv'"
     ]
    }
   ],
   "source": [
    "import csv\n",
    "\n",
    "# Read the CSV file and create dictionaries for each subject\n",
    "subject1 = {}\n",
    "subject2 = {}\n",
    "subject3 = {}\n",
    "\n",
    "with open('grades.csv', 'r') as csvfile:\n",
    "    csv_reader = csv.DictReader(csvfile)\n",
    "    for row in csv_reader:\n",
    "        subject1[row['Subject1']] = int(row['Subject1'])\n",
    "        subject2[row['Subject2']] = int(row['Subject2'])\n",
    "        subject3[row['Subject3']] = int(row['Subject3'])\n",
    "\n",
    "# Function to determine the grade based on the score\n",
    "def get_grade(score):\n",
    "    if score >= 90:\n",
    "        return 'A'\n",
    "    elif score >= 80:\n",
    "        return 'B'\n",
    "    else:\n",
    "        return 'C'\n",
    "\n",
    "# Print grades for each subject\n",
    "for subject, scores in [('Subject1', subject1), ('Subject2', subject2), ('Subject3', subject3)]:\n",
    "    print(f'Grades for {subject}:')\n",
    "    for score, value in scores.items():\n",
    "        grade = get_grade(value)\n",
    "        print(f'Score: {score}, Grade: {grade}')\n",
    "    print()\n"
   ]
  },
  {
   "cell_type": "code",
   "execution_count": 31,
   "id": "9069e588",
   "metadata": {},
   "outputs": [
    {
     "ename": "FileNotFoundError",
     "evalue": "[Errno 2] No such file or directory: 'grade.csv'",
     "output_type": "error",
     "traceback": [
      "\u001b[1;31m---------------------------------------------------------------------------\u001b[0m",
      "\u001b[1;31mFileNotFoundError\u001b[0m                         Traceback (most recent call last)",
      "Cell \u001b[1;32mIn[31], line 20\u001b[0m\n\u001b[0;32m     13\u001b[0m subject_scores \u001b[38;5;241m=\u001b[39m {\n\u001b[0;32m     14\u001b[0m     \u001b[38;5;124m'\u001b[39m\u001b[38;5;124mSubject1\u001b[39m\u001b[38;5;124m'\u001b[39m: [],\n\u001b[0;32m     15\u001b[0m     \u001b[38;5;124m'\u001b[39m\u001b[38;5;124mSubject2\u001b[39m\u001b[38;5;124m'\u001b[39m: [],\n\u001b[0;32m     16\u001b[0m     \u001b[38;5;124m'\u001b[39m\u001b[38;5;124mSubject3\u001b[39m\u001b[38;5;124m'\u001b[39m: [],\n\u001b[0;32m     17\u001b[0m }\n\u001b[0;32m     19\u001b[0m \u001b[38;5;66;03m# Read data from the CSV file and populate the subject_scores dictionary\u001b[39;00m\n\u001b[1;32m---> 20\u001b[0m \u001b[38;5;28;01mwith\u001b[39;00m \u001b[38;5;28mopen\u001b[39m(\u001b[38;5;124m'\u001b[39m\u001b[38;5;124mgrade.csv\u001b[39m\u001b[38;5;124m'\u001b[39m, \u001b[38;5;124m'\u001b[39m\u001b[38;5;124mr\u001b[39m\u001b[38;5;124m'\u001b[39m) \u001b[38;5;28;01mas\u001b[39;00m csvfile:\n\u001b[0;32m     21\u001b[0m     csv_reader \u001b[38;5;241m=\u001b[39m csv\u001b[38;5;241m.\u001b[39mDictReader(csvfile)\n\u001b[0;32m     22\u001b[0m     \u001b[38;5;28;01mfor\u001b[39;00m row \u001b[38;5;129;01min\u001b[39;00m csv_reader:\n",
      "File \u001b[1;32m~\\anaconda3\\Lib\\site-packages\\IPython\\core\\interactiveshell.py:284\u001b[0m, in \u001b[0;36m_modified_open\u001b[1;34m(file, *args, **kwargs)\u001b[0m\n\u001b[0;32m    277\u001b[0m \u001b[38;5;28;01mif\u001b[39;00m file \u001b[38;5;129;01min\u001b[39;00m {\u001b[38;5;241m0\u001b[39m, \u001b[38;5;241m1\u001b[39m, \u001b[38;5;241m2\u001b[39m}:\n\u001b[0;32m    278\u001b[0m     \u001b[38;5;28;01mraise\u001b[39;00m \u001b[38;5;167;01mValueError\u001b[39;00m(\n\u001b[0;32m    279\u001b[0m         \u001b[38;5;124mf\u001b[39m\u001b[38;5;124m\"\u001b[39m\u001b[38;5;124mIPython won\u001b[39m\u001b[38;5;124m'\u001b[39m\u001b[38;5;124mt let you open fd=\u001b[39m\u001b[38;5;132;01m{\u001b[39;00mfile\u001b[38;5;132;01m}\u001b[39;00m\u001b[38;5;124m by default \u001b[39m\u001b[38;5;124m\"\u001b[39m\n\u001b[0;32m    280\u001b[0m         \u001b[38;5;124m\"\u001b[39m\u001b[38;5;124mas it is likely to crash IPython. If you know what you are doing, \u001b[39m\u001b[38;5;124m\"\u001b[39m\n\u001b[0;32m    281\u001b[0m         \u001b[38;5;124m\"\u001b[39m\u001b[38;5;124myou can use builtins\u001b[39m\u001b[38;5;124m'\u001b[39m\u001b[38;5;124m open.\u001b[39m\u001b[38;5;124m\"\u001b[39m\n\u001b[0;32m    282\u001b[0m     )\n\u001b[1;32m--> 284\u001b[0m \u001b[38;5;28;01mreturn\u001b[39;00m io_open(file, \u001b[38;5;241m*\u001b[39margs, \u001b[38;5;241m*\u001b[39m\u001b[38;5;241m*\u001b[39mkwargs)\n",
      "\u001b[1;31mFileNotFoundError\u001b[0m: [Errno 2] No such file or directory: 'grade.csv'"
     ]
    }
   ],
   "source": [
    "import csv\n",
    "\n",
    "# Function to calculate the grade based on the score\n",
    "def calculate_grade(score):\n",
    "    if score >= 90:\n",
    "        return 'A'\n",
    "    elif score >= 80:\n",
    "        return 'B'\n",
    "    else:\n",
    "        return 'C'\n",
    "\n",
    "# Dictionary to store the scores for each subject\n",
    "subject_scores = {\n",
    "    'Subject1': [],\n",
    "    'Subject2': [],\n",
    "    'Subject3': [],\n",
    "}\n",
    "\n",
    "# Read data from the CSV file and populate the subject_scores dictionary\n",
    "with open('grade.csv', 'r') as csvfile:\n",
    "    csv_reader = csv.DictReader(csvfile)\n",
    "    for row in csv_reader:\n",
    "        for subject, score in row.items():\n",
    "            subject_scores[subject].append(int(score))\n",
    "\n",
    "# Print the grades for each subject\n",
    "for subject, scores in subject_scores.items():\n",
    "    print(f'Grades for {subject}:')\n",
    "    for score in scores:\n",
    "        grade = calculate_grade(score)\n",
    "        print(f'Score: {score} => Grade: {grade}')\n",
    "    print()\n"
   ]
  },
  {
   "cell_type": "code",
   "execution_count": null,
   "id": "c901211b",
   "metadata": {},
   "outputs": [],
   "source": []
  }
 ],
 "metadata": {
  "kernelspec": {
   "display_name": "Python 3 (ipykernel)",
   "language": "python",
   "name": "python3"
  },
  "language_info": {
   "codemirror_mode": {
    "name": "ipython",
    "version": 3
   },
   "file_extension": ".py",
   "mimetype": "text/x-python",
   "name": "python",
   "nbconvert_exporter": "python",
   "pygments_lexer": "ipython3",
   "version": "3.11.4"
  }
 },
 "nbformat": 4,
 "nbformat_minor": 5
}
