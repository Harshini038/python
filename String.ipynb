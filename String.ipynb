{
 "cells": [
  {
   "cell_type": "code",
   "execution_count": 1,
   "id": "a841c4ad",
   "metadata": {},
   "outputs": [
    {
     "data": {
      "text/plain": [
       "'I am an immutable string'"
      ]
     },
     "execution_count": 1,
     "metadata": {},
     "output_type": "execute_result"
    }
   ],
   "source": [
    "s1=\"I am an immutable string\"\n",
    "s1"
   ]
  },
  {
   "cell_type": "code",
   "execution_count": 2,
   "id": "7d20cafe",
   "metadata": {},
   "outputs": [
    {
     "name": "stdout",
     "output_type": "stream",
     "text": [
      "immutable\n"
     ]
    }
   ],
   "source": [
    "print(s1[8:17])"
   ]
  },
  {
   "cell_type": "code",
   "execution_count": 5,
   "id": "3e63cfc9",
   "metadata": {},
   "outputs": [
    {
     "data": {
      "text/plain": [
       "'HARSHINI'"
      ]
     },
     "execution_count": 5,
     "metadata": {},
     "output_type": "execute_result"
    }
   ],
   "source": [
    "s2=\"HARSHINI\"\n",
    "s2"
   ]
  },
  {
   "cell_type": "code",
   "execution_count": 7,
   "id": "e9bcd768",
   "metadata": {},
   "outputs": [
    {
     "data": {
      "text/plain": [
       "'harshini'"
      ]
     },
     "execution_count": 7,
     "metadata": {},
     "output_type": "execute_result"
    }
   ],
   "source": [
    "s2.lower()\n"
   ]
  },
  {
   "cell_type": "code",
   "execution_count": 8,
   "id": "e4dad0a7",
   "metadata": {},
   "outputs": [
    {
     "data": {
      "text/plain": [
       "'Harshini'"
      ]
     },
     "execution_count": 8,
     "metadata": {},
     "output_type": "execute_result"
    }
   ],
   "source": [
    "s2.title()\n"
   ]
  },
  {
   "cell_type": "code",
   "execution_count": 9,
   "id": "1b31666d",
   "metadata": {},
   "outputs": [
    {
     "data": {
      "text/plain": [
       "'Harshini'"
      ]
     },
     "execution_count": 9,
     "metadata": {},
     "output_type": "execute_result"
    }
   ],
   "source": [
    "s2.capitalize()"
   ]
  },
  {
   "cell_type": "code",
   "execution_count": 10,
   "id": "516847ef",
   "metadata": {},
   "outputs": [
    {
     "data": {
      "text/plain": [
       "'Kozhi'"
      ]
     },
     "execution_count": 10,
     "metadata": {},
     "output_type": "execute_result"
    }
   ],
   "source": [
    "s3=\"kozhi\"\n",
    "s3.capitalize()"
   ]
  },
  {
   "cell_type": "code",
   "execution_count": 11,
   "id": "7c153e7e",
   "metadata": {},
   "outputs": [
    {
     "data": {
      "text/plain": [
       "'HARSHINI'"
      ]
     },
     "execution_count": 11,
     "metadata": {},
     "output_type": "execute_result"
    }
   ],
   "source": [
    "s2.upper()"
   ]
  },
  {
   "cell_type": "code",
   "execution_count": 12,
   "id": "0cab44aa",
   "metadata": {},
   "outputs": [
    {
     "data": {
      "text/plain": [
       "['Multi line string']"
      ]
     },
     "execution_count": 12,
     "metadata": {},
     "output_type": "execute_result"
    }
   ],
   "source": [
    "s4=\"Multi line string\"\n",
    "s4.split('\\n')"
   ]
  },
  {
   "cell_type": "code",
   "execution_count": 14,
   "id": "2761dda2",
   "metadata": {},
   "outputs": [
    {
     "data": {
      "text/plain": [
       "3"
      ]
     },
     "execution_count": 14,
     "metadata": {},
     "output_type": "execute_result"
    }
   ],
   "source": [
    "s4.count('i')"
   ]
  },
  {
   "cell_type": "code",
   "execution_count": 15,
   "id": "98bdc5f8",
   "metadata": {},
   "outputs": [],
   "source": [
    "name=\"Harshini Mani\"\n",
    "fname,lname=name.split()"
   ]
  },
  {
   "cell_type": "code",
   "execution_count": 16,
   "id": "00820ffe",
   "metadata": {},
   "outputs": [
    {
     "data": {
      "text/plain": [
       "'Harshini'"
      ]
     },
     "execution_count": 16,
     "metadata": {},
     "output_type": "execute_result"
    }
   ],
   "source": [
    "fname"
   ]
  },
  {
   "cell_type": "code",
   "execution_count": 17,
   "id": "4e6df654",
   "metadata": {},
   "outputs": [
    {
     "data": {
      "text/plain": [
       "'Mani'"
      ]
     },
     "execution_count": 17,
     "metadata": {},
     "output_type": "execute_result"
    }
   ],
   "source": [
    "lname"
   ]
  },
  {
   "cell_type": "code",
   "execution_count": 18,
   "id": "f42342e0",
   "metadata": {},
   "outputs": [
    {
     "data": {
      "text/plain": [
       "'hARSHINI'"
      ]
     },
     "execution_count": 18,
     "metadata": {},
     "output_type": "execute_result"
    }
   ],
   "source": [
    "fname.swapcase()"
   ]
  },
  {
   "cell_type": "code",
   "execution_count": 19,
   "id": "1d4f946f",
   "metadata": {},
   "outputs": [
    {
     "data": {
      "text/plain": [
       "'   I am a   string with multiple  spaces'"
      ]
     },
     "execution_count": 19,
     "metadata": {},
     "output_type": "execute_result"
    }
   ],
   "source": [
    "s4 = \"   I am a   string with multiple  spaces     \"\n",
    "s4.rstrip()"
   ]
  },
  {
   "cell_type": "code",
   "execution_count": 20,
   "id": "1fba3e5a",
   "metadata": {},
   "outputs": [
    {
     "data": {
      "text/plain": [
       "'I am a   string with multiple  spaces     '"
      ]
     },
     "execution_count": 20,
     "metadata": {},
     "output_type": "execute_result"
    }
   ],
   "source": [
    "s4.lstrip()"
   ]
  },
  {
   "cell_type": "code",
   "execution_count": 21,
   "id": "0b6aabfe",
   "metadata": {},
   "outputs": [
    {
     "data": {
      "text/plain": [
       "'     I am centered string     '"
      ]
     },
     "execution_count": 21,
     "metadata": {},
     "output_type": "execute_result"
    }
   ],
   "source": [
    "s5 = \"I am centered string\"\n",
    "s5.center(30)"
   ]
  },
  {
   "cell_type": "code",
   "execution_count": 22,
   "id": "130690dc",
   "metadata": {},
   "outputs": [
    {
     "data": {
      "text/plain": [
       "'I am centered string'"
      ]
     },
     "execution_count": 22,
     "metadata": {},
     "output_type": "execute_result"
    }
   ],
   "source": [
    "s5.center(10)"
   ]
  },
  {
   "cell_type": "code",
   "execution_count": 23,
   "id": "54c514c2",
   "metadata": {},
   "outputs": [
    {
     "data": {
      "text/plain": [
       "5"
      ]
     },
     "execution_count": 23,
     "metadata": {},
     "output_type": "execute_result"
    }
   ],
   "source": [
    "s5.find('centered')"
   ]
  },
  {
   "cell_type": "code",
   "execution_count": null,
   "id": "f3b278d3",
   "metadata": {},
   "outputs": [],
   "source": []
  }
 ],
 "metadata": {
  "kernelspec": {
   "display_name": "Python 3 (ipykernel)",
   "language": "python",
   "name": "python3"
  },
  "language_info": {
   "codemirror_mode": {
    "name": "ipython",
    "version": 3
   },
   "file_extension": ".py",
   "mimetype": "text/x-python",
   "name": "python",
   "nbconvert_exporter": "python",
   "pygments_lexer": "ipython3",
   "version": "3.11.4"
  }
 },
 "nbformat": 4,
 "nbformat_minor": 5
}
