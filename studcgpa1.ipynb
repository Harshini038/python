{
 "cells": [
  {
   "cell_type": "code",
   "execution_count": 1,
   "id": "d572a22f",
   "metadata": {},
   "outputs": [],
   "source": [
    "class InvalidCGPA(Exception):\n",
    "    pass"
   ]
  },
  {
   "cell_type": "code",
   "execution_count": 8,
   "id": "9850019f",
   "metadata": {},
   "outputs": [],
   "source": [
    "class Student:\n",
    "    def __init__(self, reg_no, name, email, mobile):\n",
    "        self.reg_no = reg_no\n",
    "        self.name = name\n",
    "        self.email = email\n",
    "        self.mobile = mobile\n",
    "    def getDetails(self, reg_no):\n",
    "        if self.reg_no == reg_no:\n",
    "            return f\"reg_no: {self.reg_no}, name: {self.name}, email:{self.email}, mobile:{self.mobile}\"\n",
    "        else:\n",
    "            return \"Student not found\""
   ]
  },
  {
   "cell_type": "code",
   "execution_count": 20,
   "id": "d4d43822",
   "metadata": {},
   "outputs": [],
   "source": [
    "class Academics(Student):\n",
    "    def __init__(self,reg_no, name, email, mobile, cgpa):\n",
    "        super().__init__(reg_no, name, email, mobile,)\n",
    "        self.cgpa = self.validate_cgpa(cgpa)\n",
    "    def validate_cgpa(self, cgpa):\n",
    "        if 0 <= cgpa <= 10:\n",
    "            return cgpa\n",
    "        else:\n",
    "            raise ValueError(\"CGPA should be in the range 0 to 10\")\n",
    "    def getDetails(self, reg_no):\n",
    "        if self.reg_no == reg_no:\n",
    "            return f\"{super().getDetails(reg_no)}, cgpa:{self.cgpa}\""
   ]
  },
  {
   "cell_type": "code",
   "execution_count": 22,
   "id": "b0c5ebf7",
   "metadata": {},
   "outputs": [
    {
     "data": {
      "text/plain": [
       "'reg_no: 101, name: sriram, email:hello@gmail.com, mobile:393939, cgpa:10'"
      ]
     },
     "execution_count": 22,
     "metadata": {},
     "output_type": "execute_result"
    }
   ],
   "source": [
    "Academics(101, \"sriram\", \"hello@gmail.com\", 393939, 10).getDetails(101)"
   ]
  },
  {
   "cell_type": "code",
   "execution_count": 11,
   "id": "f1ba936b",
   "metadata": {},
   "outputs": [],
   "source": [
    "class STUDENT_STATUS(Academics):\n",
    "    def send_email(self):\n",
    "        if self.cgpa<5:\n",
    "            print(f\"email sent to {self.name} at {self.email},need to improve \")"
   ]
  },
  {
   "cell_type": "code",
   "execution_count": 17,
   "id": "394b508c",
   "metadata": {},
   "outputs": [],
   "source": [
    "student = STUDENT_STATUS(101, \"sriram\", \"hello@gmail.com\", 393939, 4)"
   ]
  },
  {
   "cell_type": "code",
   "execution_count": 18,
   "id": "7429079c",
   "metadata": {},
   "outputs": [
    {
     "data": {
      "text/plain": [
       "'reg_no: 101, name: sriram, email:hello@gmail.com, mobile:393939, cgpa:4'"
      ]
     },
     "execution_count": 18,
     "metadata": {},
     "output_type": "execute_result"
    }
   ],
   "source": [
    "student.getDetails(101)"
   ]
  },
  {
   "cell_type": "code",
   "execution_count": 19,
   "id": "17c57858",
   "metadata": {},
   "outputs": [
    {
     "name": "stdout",
     "output_type": "stream",
     "text": [
      "email sent to sriram at hello@gmail.com,need to improve \n"
     ]
    }
   ],
   "source": [
    "student.send_email()"
   ]
  },
  {
   "cell_type": "code",
   "execution_count": null,
   "id": "77d2a10c",
   "metadata": {},
   "outputs": [],
   "source": []
  }
 ],
 "metadata": {
  "kernelspec": {
   "display_name": "Python 3 (ipykernel)",
   "language": "python",
   "name": "python3"
  },
  "language_info": {
   "codemirror_mode": {
    "name": "ipython",
    "version": 3
   },
   "file_extension": ".py",
   "mimetype": "text/x-python",
   "name": "python",
   "nbconvert_exporter": "python",
   "pygments_lexer": "ipython3",
   "version": "3.11.4"
  }
 },
 "nbformat": 4,
 "nbformat_minor": 5
}
